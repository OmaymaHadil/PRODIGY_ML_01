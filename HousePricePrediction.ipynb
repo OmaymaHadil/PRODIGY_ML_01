# House Price Prediction using Linear Regression

## 1. Introduction
- **Objective**: The goal is to build a linear regression model to predict the sale prices of houses based on various features.
- **Dataset**: The dataset is taken from Kaggle’s "House Prices: Advanced Regression Techniques" competition.

## 2. Importing Libraries
```python
import numpy as np
import pandas as pd
import matplotlib.pyplot as plt
import seaborn as sns
from sklearn.model_selection import train_test_split
from sklearn.linear_model import LinearRegression
from sklearn.metrics import mean_squared_error, r2_score
# Load the training dataset
train_data = pd.read_csv('train.csv')

# Display the first few rows of the dataset
train_data.head()
# Summary statistics of the dataset
train_data.describe()
# Correlation matrix
plt.figure(figsize=(12, 8))
sns.heatmap(train_data.corr(), annot=True, fmt='.2f', cmap='coolwarm')
plt.show()

# Pairplot of key features
sns.pairplot(train_data[['SalePrice', 'GrLivArea', 'OverallQual', 'YearBuilt', 'TotalBsmtSF']])
plt.show()
# Checking for missing values
train_data.isnull().sum()

# Fill missing values with median
train_data = train_data.fillna(train_data.median())
# Selecting features for the model
features = ['GrLivArea', 'TotalBsmtSF', 'OverallQual', 'YearBuilt']
X = train_data[features]
y = train_data['SalePrice']
# Split the data into training and testing sets
X_train, X_test, y_train, y_test = train_test_split(X, y, test_size=0.2, random_state=42)
# Initialize the Linear Regression model
model = LinearRegression()

# Train the model on the training data
model.fit(X_train, y_train)
# Make predictions on the test data
y_pred = model.predict(X_test)

# Calculate Mean Squared Error
mse = mean_squared_error(y_test, y_pred)
print(f"Mean Squared Error: {mse}")

# Calculate R² Score
r2 = r2_score(y_test, y_pred)
print(f"R² Score: {r2}")
plt.figure(figsize=(8, 6))
plt.scatter(y_test, y_pred, alpha=0.5)
plt.xlabel("Actual Prices")
plt.ylabel("Predicted Prices")
plt.title("Actual vs Predicted Prices")
plt.show()
